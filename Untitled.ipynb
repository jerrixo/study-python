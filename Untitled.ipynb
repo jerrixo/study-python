{
 "cells": [
  {
   "cell_type": "code",
   "execution_count": null,
   "metadata": {
    "collapsed": true
   },
   "outputs": [],
   "source": [
    "import requests\n",
    "import sqlalchemy\n",
    "import pandas as pd\n",
    "from lxml import etree\n",
    "dDate = '2012-03-31 00:00:00'\n",
    "\n",
    "def getYhrjz（urlBase='http://www.boc.cn/sourcedb/whpj'）:\n",
    "    sRate = requests.Session()\n",
    "    hRate = "
   ]
  }
 ],
 "metadata": {
  "anaconda-cloud": {},
  "kernelspec": {
   "display_name": "Python [Root]",
   "language": "python",
   "name": "Python [Root]"
  },
  "language_info": {
   "codemirror_mode": {
    "name": "ipython",
    "version": 3
   },
   "file_extension": ".py",
   "mimetype": "text/x-python",
   "name": "python",
   "nbconvert_exporter": "python",
   "pygments_lexer": "ipython3",
   "version": "3.5.2"
  }
 },
 "nbformat": 4,
 "nbformat_minor": 0
}
