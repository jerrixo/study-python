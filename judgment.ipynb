{
 "cells": [
  {
   "cell_type": "code",
   "execution_count": 1,
   "metadata": {
    "collapsed": false
   },
   "outputs": [
    {
     "name": "stdout",
     "output_type": "stream",
     "text": [
      "please input your age 1\n"
     ]
    }
   ],
   "source": [
    "age=input('please input your age ')"
   ]
  },
  {
   "cell_type": "code",
   "execution_count": 2,
   "metadata": {
    "collapsed": false
   },
   "outputs": [
    {
     "name": "stdout",
     "output_type": "stream",
     "text": [
      "please input your age18\n"
     ]
    }
   ],
   "source": [
    "age=input('please input your age')"
   ]
  },
  {
   "cell_type": "code",
   "execution_count": 3,
   "metadata": {
    "collapsed": false
   },
   "outputs": [
    {
     "name": "stdout",
     "output_type": "stream",
     "text": [
      "please input your age ：18\n",
      "you are adult\n"
     ]
    }
   ],
   "source": [
    "age=input('please input your age ：')\n",
    "if int(age)>=18:\n",
    "    print('you are adult')\n",
    "else:\n",
    "    print('you are teenager')"
   ]
  },
  {
   "cell_type": "code",
   "execution_count": 7,
   "metadata": {
    "collapsed": false
   },
   "outputs": [
    {
     "name": "stdout",
     "output_type": "stream",
     "text": [
      "please input your age ：33\n",
      "you are adult\n"
     ]
    }
   ],
   "source": [
    "cInput=input('please input your age ：')\n",
    "iAge=int(cInput)\n",
    "if iAge>=18:\n",
    "    print('you are adult')\n",
    "else:\n",
    "    print('you are teenager')"
   ]
  },
  {
   "cell_type": "code",
   "execution_count": 8,
   "metadata": {
    "collapsed": false
   },
   "outputs": [
    {
     "name": "stdout",
     "output_type": "stream",
     "text": [
      "please input your age ：2\n",
      "you are kid\n"
     ]
    }
   ],
   "source": [
    "cInput=input('please input your age ：')\n",
    "iAge=int(cInput)\n",
    "if iAge>=18:\n",
    "    print('you are adult')\n",
    "elif iAge<=6:\n",
    "    print('you are kid')\n",
    "else:\n",
    "    print('you are teenager')"
   ]
  },
  {
   "cell_type": "code",
   "execution_count": 11,
   "metadata": {
    "collapsed": false
   },
   "outputs": [
    {
     "name": "stdout",
     "output_type": "stream",
     "text": [
      "please input your age ：7\n",
      "you are teenager\n"
     ]
    }
   ],
   "source": [
    "cInput=input('please input your age ：')\n",
    "iAge=int(cInput)\n",
    "if iAge>=18:\n",
    "    print('you are adult')\n",
    "elif iAge<=6:\n",
    "    print('you are kid')\n",
    "else:\n",
    "    print('you are teenager')"
   ]
  },
  {
   "cell_type": "code",
   "execution_count": 12,
   "metadata": {
    "collapsed": false
   },
   "outputs": [
    {
     "name": "stdout",
     "output_type": "stream",
     "text": [
      "9\n",
      "True\n"
     ]
    }
   ],
   "source": [
    "a=input()\n",
    "if a:\n",
    "    print('True')"
   ]
  },
  {
   "cell_type": "code",
   "execution_count": 13,
   "metadata": {
    "collapsed": false
   },
   "outputs": [
    {
     "name": "stdout",
     "output_type": "stream",
     "text": [
      "a\n",
      "True\n"
     ]
    }
   ],
   "source": [
    "a=input()\n",
    "if a:\n",
    "    print('True')"
   ]
  },
  {
   "cell_type": "code",
   "execution_count": 14,
   "metadata": {
    "collapsed": false
   },
   "outputs": [
    {
     "name": "stdout",
     "output_type": "stream",
     "text": [
      "0\n",
      "True\n"
     ]
    }
   ],
   "source": [
    "a=input()\n",
    "if a:\n",
    "    print('True')"
   ]
  },
  {
   "cell_type": "code",
   "execution_count": 17,
   "metadata": {
    "collapsed": false
   },
   "outputs": [
    {
     "name": "stdout",
     "output_type": "stream",
     "text": [
      "0\n",
      "True\n"
     ]
    }
   ],
   "source": [
    "#只要x是非零数值、非空字符串、非空list等，就判断为True，否则为False。\n",
    "x=input()\n",
    "if x:\n",
    "    print('True')"
   ]
  },
  {
   "cell_type": "code",
   "execution_count": 3,
   "metadata": {
    "collapsed": false
   },
   "outputs": [
    {
     "name": "stdout",
     "output_type": "stream",
     "text": [
      "please input your height（m） : 1.7\n"
     ]
    },
    {
     "ename": "ValueError",
     "evalue": "invalid literal for int() with base 10: '1.7'",
     "output_type": "error",
     "traceback": [
      "\u001b[1;31m---------------------------------------------------------------------------\u001b[0m",
      "\u001b[1;31mValueError\u001b[0m                                Traceback (most recent call last)",
      "\u001b[1;32m<ipython-input-3-3a9885066b78>\u001b[0m in \u001b[0;36m<module>\u001b[1;34m()\u001b[0m\n\u001b[0;32m      5\u001b[0m \u001b[1;31m#28-32：肥胖\u001b[0m\u001b[1;33m\u001b[0m\u001b[1;33m\u001b[0m\u001b[0m\n\u001b[0;32m      6\u001b[0m \u001b[1;31m#高于32：严重肥胖\u001b[0m\u001b[1;33m\u001b[0m\u001b[1;33m\u001b[0m\u001b[0m\n\u001b[1;32m----> 7\u001b[1;33m \u001b[0miHeight\u001b[0m\u001b[1;33m=\u001b[0m\u001b[0mint\u001b[0m\u001b[1;33m(\u001b[0m\u001b[0minput\u001b[0m\u001b[1;33m(\u001b[0m\u001b[1;34m'please input your height（m） : '\u001b[0m\u001b[1;33m)\u001b[0m\u001b[1;33m)\u001b[0m\u001b[1;33m\u001b[0m\u001b[0m\n\u001b[0m\u001b[0;32m      8\u001b[0m \u001b[0miWeight\u001b[0m\u001b[1;33m=\u001b[0m\u001b[0mint\u001b[0m\u001b[1;33m(\u001b[0m\u001b[0minput\u001b[0m\u001b[1;33m(\u001b[0m\u001b[1;34m'please input your weight : '\u001b[0m\u001b[1;33m)\u001b[0m\u001b[1;33m)\u001b[0m\u001b[1;33m\u001b[0m\u001b[0m\n\u001b[0;32m      9\u001b[0m \u001b[0miBMI\u001b[0m\u001b[1;33m=\u001b[0m\u001b[0miWeight\u001b[0m\u001b[1;33m/\u001b[0m\u001b[1;33m(\u001b[0m\u001b[0miHeight\u001b[0m\u001b[1;33m*\u001b[0m\u001b[0miHeight\u001b[0m\u001b[1;33m)\u001b[0m\u001b[1;33m\u001b[0m\u001b[0m\n",
      "\u001b[1;31mValueError\u001b[0m: invalid literal for int() with base 10: '1.7'"
     ]
    }
   ],
   "source": [
    "#小明身高1.75，体重80.5kg。请根据BMI公式（体重除以身高的平方）帮小明计算他的BMI指数，并根据BMI指数：\n",
    "#低于18.5：过轻\n",
    "#18.5-25：正常\n",
    "#25-28：过重\n",
    "#28-32：肥胖\n",
    "#高于32：严重肥胖\n",
    "iHeight=int(input('please input your height（m） : '))\n",
    "iWeight=int(input('please input your weight : '))\n",
    "iBMI=iWeight/(iHeight*iHeight)\n",
    "a=int(iBMI)\n",
    "if a<18.5:\n",
    "    print('过轻')\n"
   ]
  },
  {
   "cell_type": "code",
   "execution_count": 11,
   "metadata": {
    "collapsed": false
   },
   "outputs": [
    {
     "name": "stdout",
     "output_type": "stream",
     "text": [
      "please input your height(M) : 1.7\n",
      "please input your weight(KG): 100\n",
      "严重肥胖\n"
     ]
    }
   ],
   "source": [
    "#小明身高1.75，体重80.5kg。请根据BMI公式（体重除以身高的平方）帮小明计算他的BMI指数，并根据BMI指数：\n",
    "#低于18.5：过轻\n",
    "#18.5-25：正常\n",
    "#25-28：过重\n",
    "#28-32：肥胖\n",
    "#高于32：严重肥胖\n",
    "fHeight=float(input('please input your height(M) : '))\n",
    "fWeight=float(input('please input your weight(KG): '))\n",
    "fBMI=float(fWeight/(fHeight*fHeight))\n",
    "if fBMI<18.5:\n",
    "    print('过轻')\n",
    "elif 18.5<=fBMI<25:\n",
    "    print('正常')\n",
    "elif 25<=fBMI<32:\n",
    "    print('过重')\n",
    "elif 32<=fBMI:\n",
    "    print('严重肥胖')"
   ]
  },
  {
   "cell_type": "code",
   "execution_count": null,
   "metadata": {
    "collapsed": true
   },
   "outputs": [],
   "source": []
  }
 ],
 "metadata": {
  "anaconda-cloud": {},
  "kernelspec": {
   "display_name": "Python [Root]",
   "language": "python",
   "name": "Python [Root]"
  },
  "language_info": {
   "codemirror_mode": {
    "name": "ipython",
    "version": 3
   },
   "file_extension": ".py",
   "mimetype": "text/x-python",
   "name": "python",
   "nbconvert_exporter": "python",
   "pygments_lexer": "ipython3",
   "version": "3.5.2"
  }
 },
 "nbformat": 4,
 "nbformat_minor": 0
}
